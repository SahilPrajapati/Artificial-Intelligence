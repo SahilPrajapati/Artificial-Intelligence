{
 "cells": [
  {
   "cell_type": "code",
   "execution_count": 155,
   "metadata": {},
   "outputs": [],
   "source": [
    "import math\n",
    "import numpy as np"
   ]
  },
  {
   "cell_type": "code",
   "execution_count": 156,
   "metadata": {},
   "outputs": [],
   "source": [
    "#Initializing Board Position\n",
    "\n",
    "nQueens = 8\n",
    "Board = [0 for i in range (nQueens)]\n",
    "\n",
    "for i in range(nQueens):\n",
    "    pos = np.random.randint(nQueens)\n",
    "    Board[i] = pos"
   ]
  },
  {
   "cell_type": "code",
   "execution_count": 157,
   "metadata": {},
   "outputs": [],
   "source": [
    "# Used for getting Board Arrangement\n",
    "def getArrangement(Seq):\n",
    "    Arrangement = np.chararray((nQueens, nQueens), unicode = True)\n",
    "    Arrangement.fill('%')\n",
    "    \n",
    "    for i in range(nQueens):\n",
    "        Arrangement[Seq[i], i] = 'Q'\n",
    "    return Arrangement"
   ]
  },
  {
   "cell_type": "code",
   "execution_count": 158,
   "metadata": {},
   "outputs": [
    {
     "name": "stdout",
     "output_type": "stream",
     "text": [
      "Initial Board Sequence : \n",
      " [5, 3, 7, 4, 0, 3, 0, 3]\n",
      "\n",
      "\n",
      "Initial Board Arrangement Corresponding to the Sequence : \n",
      " [['%' '%' '%' '%' 'Q' '%' 'Q' '%']\n",
      " ['%' '%' '%' '%' '%' '%' '%' '%']\n",
      " ['%' '%' '%' '%' '%' '%' '%' '%']\n",
      " ['%' 'Q' '%' '%' '%' 'Q' '%' 'Q']\n",
      " ['%' '%' '%' 'Q' '%' '%' '%' '%']\n",
      " ['Q' '%' '%' '%' '%' '%' '%' '%']\n",
      " ['%' '%' '%' '%' '%' '%' '%' '%']\n",
      " ['%' '%' 'Q' '%' '%' '%' '%' '%']]\n"
     ]
    }
   ],
   "source": [
    "print(\"Initial Board Sequence : \\n\",Board)\n",
    "print(\"\\n\\nInitial Board Arrangement Corresponding to the Sequence : \\n\",getArrangement(Board))"
   ]
  },
  {
   "cell_type": "code",
   "execution_count": 159,
   "metadata": {},
   "outputs": [],
   "source": [
    "#Used to give the heuristic value, i.e, No. of Queens of attacking each other directly or indirectly\n",
    "\n",
    "def Clashes(Seq):\n",
    "    \n",
    "    clashes = 0\n",
    "    \n",
    "    #Calculating Row clashes\n",
    "    row_col_clashes = abs(len(Seq) - len(np.unique(Seq)))\n",
    "    clashes += 2*row_col_clashes\n",
    "    #print(clashes)\n",
    "\n",
    "    # calculate diagonal clashes\n",
    "    for i in range(len(Seq)):\n",
    "        for j in range(len(Seq)):\n",
    "            if ( i != j):\n",
    "                dx = abs(i-j)\n",
    "                dy = abs(Seq[i] - Seq[j])\n",
    "                if(dx == dy):\n",
    "                    clashes += 1\n",
    "\n",
    "\n",
    "    return clashes"
   ]
  },
  {
   "cell_type": "code",
   "execution_count": 160,
   "metadata": {
    "scrolled": true
   },
   "outputs": [
    {
     "name": "stdout",
     "output_type": "stream",
     "text": [
      "No. of Queens of attacking each other directly or indirectly(clashes), initially :  12\n"
     ]
    }
   ],
   "source": [
    "clashes = Clashes(Board)\n",
    "print(\"No. of Queens of attacking each other directly or indirectly(clashes), initially : \",clashes)"
   ]
  },
  {
   "cell_type": "code",
   "execution_count": 161,
   "metadata": {},
   "outputs": [],
   "source": [
    "def initializeClashArray(Board, clashes):\n",
    "    #clashArray used to take the position of queen which will help in minimizing the heuristic value\n",
    "    clashArray = np.zeros((nQueens, nQueens))\n",
    "\n",
    "    #clashes in initial Board Position\n",
    "    for i in range(nQueens):\n",
    "        clashArray[Board[i], i] = clashes\n",
    "    return clashArray"
   ]
  },
  {
   "cell_type": "code",
   "execution_count": 162,
   "metadata": {
    "scrolled": true
   },
   "outputs": [
    {
     "name": "stdout",
     "output_type": "stream",
     "text": [
      "[[ 0.  0.  0.  0. 12.  0. 12.  0.]\n",
      " [ 0.  0.  0.  0.  0.  0.  0.  0.]\n",
      " [ 0.  0.  0.  0.  0.  0.  0.  0.]\n",
      " [ 0. 12.  0.  0.  0. 12.  0. 12.]\n",
      " [ 0.  0.  0. 12.  0.  0.  0.  0.]\n",
      " [12.  0.  0.  0.  0.  0.  0.  0.]\n",
      " [ 0.  0.  0.  0.  0.  0.  0.  0.]\n",
      " [ 0.  0. 12.  0.  0.  0.  0.  0.]]\n"
     ]
    },
    {
     "data": {
      "text/plain": [
       "12"
      ]
     },
     "execution_count": 162,
     "metadata": {},
     "output_type": "execute_result"
    }
   ],
   "source": [
    "clashArray = initializeClashArray(Board, clashes)\n",
    "\n",
    "print(clashArray)\n",
    "clashes"
   ]
  },
  {
   "cell_type": "code",
   "execution_count": null,
   "metadata": {},
   "outputs": [],
   "source": []
  },
  {
   "cell_type": "code",
   "execution_count": 163,
   "metadata": {
    "scrolled": true
   },
   "outputs": [
    {
     "name": "stdout",
     "output_type": "stream",
     "text": [
      "initial clashes :  12\n",
      "initial board : :  [5, 3, 7, 4, 0, 3, 0, 3]\n",
      "\n",
      "\n",
      " Pass No. :  1\n",
      "\n",
      "Not found in 1000  iterations, Pass No. :  1\n",
      "Board becomes :  [5, 1, 7, 4, 0, 3, 0, 6]\n",
      "Clashes becomes :  4\n",
      "\n",
      "\n",
      " Now Pass No. :  2\n",
      "So Modified Board :  [0, 0, 6, 7, 4, 4, 0, 3]  with clashes :  16\n",
      "\n",
      "Not found in 1000  iterations, Pass No. :  2\n",
      "Board becomes :  [7, 2, 6, 1, 1, 4, 0, 3]\n",
      "Clashes becomes :  2\n",
      "\n",
      "\n",
      " Now Pass No. :  3\n",
      "So Modified Board :  [0, 7, 1, 7, 6, 6, 2, 7]  with clashes :  12\n",
      "\n",
      "Not found in 1000  iterations, Pass No. :  3\n",
      "Board becomes :  [0, 4, 1, 7, 3, 6, 2, 5]\n",
      "Clashes becomes :  2\n",
      "\n",
      "\n",
      " Now Pass No. :  4\n",
      "So Modified Board :  [3, 7, 7, 0, 2, 1, 0, 6]  with clashes :  12\n",
      "\n",
      "\n",
      "Yay!!!, We found the solution in  4  iterations and Pass No. :  4\n",
      "\n",
      " The Solution is : \n",
      "\n",
      "% % % Q % % % % \n",
      "% % % % % % Q % \n",
      "% % % % Q % % % \n",
      "% % Q % % % % % \n",
      "Q % % % % % % % \n",
      "% % % % % Q % % \n",
      "% % % % % % % Q \n",
      "% Q % % % % % % \n"
     ]
    }
   ],
   "source": [
    "iteration = 0\n",
    "passes = 0\n",
    "\n",
    "#will be used to store the indexe queen contributing to lower clashes\n",
    "newrow =  newcol = -1\n",
    "\n",
    "print(\"initial clashes : \",clashes)\n",
    "print(\"initial board : : \",Board)\n",
    "\n",
    "\n",
    "print(\"\\n\\n Pass No. : \",passes+1)\n",
    "\n",
    "while clashes is not 0:\n",
    "    iteration += 1\n",
    "    \n",
    "    #Computing Clashing Array\n",
    "    for i in range(nQueens):\n",
    "       \n",
    "        TempBoard = Board.copy()\n",
    "        \n",
    "        iPosition = [i for i in range(nQueens)]\n",
    "        iPosition.remove(TempBoard[i])\n",
    "    \n",
    "        for position in iPosition:\n",
    "            TempBoard[i] = position\n",
    "            \n",
    "            #computing the clash Array\n",
    "            clashArray[TempBoard[i], i] = Clashes(TempBoard)\n",
    "    \n",
    "    \n",
    "    #index of the queen which will help to minimize the clashes\n",
    "    newrow, newcol = np.argwhere(clashArray == np.min(clashArray))[0]\n",
    "    \n",
    "    #Changing the board w.r.t. to the index of that queen\n",
    "    Board[newcol] = newrow\n",
    "    \n",
    "    #Clashes after changing the position of that queen\n",
    "    clashes = Clashes(Board)\n",
    "    \n",
    "    #Initializing Clashing Array for new Board\n",
    "    clashArray = initializeClashArray(Board, clashes)\n",
    "    \n",
    "    #If we found the Solution\n",
    "    if clashes == 0:\n",
    "        print(\"\\n\\nYay!!!, We found the solution in \",iteration,\" iterations and Pass No. : \",passes+1)\n",
    "        print(\"\\n The Solution is : \\n\")\n",
    "        \n",
    "        #Printing the solution\n",
    "        sol = getArrangement(Board)\n",
    "        for i in range(nQueens):\n",
    "            for j in range(nQueens):\n",
    "                print(sol[i,j],end = \" \")\n",
    "            print()\n",
    "        \n",
    "        break\n",
    "    \n",
    "    #Probably Stuck in local minima. So initializing Randomly again.\n",
    "    if iteration == 5000:\n",
    "        \n",
    "        iteration = 0\n",
    "        passes += 1\n",
    "\n",
    "        print(\"\\nNot found in 1000  iterations, Pass No. : \",passes)\n",
    "        print(\"Board becomes : \",Board)\n",
    "        print(\"Clashes becomes : \",clashes)\n",
    "        \n",
    "        print(\"\\n\\n Now Pass No. : \",passes+1)\n",
    "        \n",
    "        # So changing the board position randomly\n",
    "        for i in range(nQueens):\n",
    "            pos = np.random.randint(nQueens)\n",
    "            Board[i] = pos\n",
    "        clashes = Clashes(Board)\n",
    "        clashArray = initializeClashArray(Board, clashes)\n",
    "        \n",
    "        print(\"So Modified Board : \", Board, \" with clashes : \",clashes)\n",
    "        if passes == 10:\n",
    "            print(\"Not Found the solution in 5 passes of 1000 iterations each\")\n",
    "            break\n",
    "\n",
    "\n",
    "\n",
    "        \n",
    "        \n",
    "    "
   ]
  }
 ],
 "metadata": {
  "kernelspec": {
   "display_name": "Python 3",
   "language": "python",
   "name": "python3"
  },
  "language_info": {
   "codemirror_mode": {
    "name": "ipython",
    "version": 3
   },
   "file_extension": ".py",
   "mimetype": "text/x-python",
   "name": "python",
   "nbconvert_exporter": "python",
   "pygments_lexer": "ipython3",
   "version": "3.6.5"
  }
 },
 "nbformat": 4,
 "nbformat_minor": 2
}
